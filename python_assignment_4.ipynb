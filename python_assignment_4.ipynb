{
 "cells": [
  {
   "cell_type": "markdown",
   "metadata": {},
   "source": [
    "### Problem 1.1\n",
    "Write a Python Program(with class concepts) to find the area of the triangle using the below\n",
    "formula.\n",
    "\n",
    "- area = (s* (s-a)* (s-b)* (s-c)) ** 0.5 \n",
    "\n",
    "Function to take the length of the sides of triangle from user should be defined in the parent\n",
    "class and function to calculate the area should be defined in subclass."
   ]
  },
  {
   "cell_type": "code",
   "execution_count": 38,
   "metadata": {},
   "outputs": [],
   "source": [
    "class triangle:\n",
    "    \n",
    "    # constructor - sides of a triangle\n",
    "    def __init__(self, side_a, side_b, side_c):\n",
    "        \n",
    "        self.side_a = side_a\n",
    "        self.side_b = side_b\n",
    "        self.side_c = side_c\n",
    "        \n",
    "    # subclass: calculate_area\n",
    "    # parentclass: triangle\n",
    "class calculate_area(triangle):\n",
    "    \n",
    "    def __init__(self, side_a, side_b, side_c):\n",
    "        \n",
    "        # inheriting the property of 'triangle' class i.e. sides of the triangle\n",
    "        super(calculate_area, self).__init__(side_a, side_b, side_c)\n",
    "               \n",
    "    # own method - calculating the area of a triangle\n",
    "    def area(self):\n",
    "        \n",
    "        # perimerter of a triangle\n",
    "        s = (self.side_a + self.side_b + self.side_c)\n",
    "\n",
    "        # area of a triangle\n",
    "        area = (s * (s - self.side_a) * (s - self.side_b) * (s - self.side_c))**0.5\n",
    "\n",
    "        # returning the area of a triangle\n",
    "        return area\n",
    "    \n"
   ]
  },
  {
   "cell_type": "code",
   "execution_count": 43,
   "metadata": {},
   "outputs": [
    {
     "data": {
      "text/plain": [
       "77.76888838089432"
      ]
     },
     "execution_count": 43,
     "metadata": {},
     "output_type": "execute_result"
    }
   ],
   "source": [
    "cal_area = calculate_area(3,4,5)  # creating a 'cal_area' object\n",
    "\n",
    "# calling the 'area' method to calculate the area of a triangle\n",
    "\n",
    "cal_area.area()\n"
   ]
  },
  {
   "cell_type": "code",
   "execution_count": null,
   "metadata": {},
   "outputs": [],
   "source": []
  },
  {
   "cell_type": "code",
   "execution_count": null,
   "metadata": {},
   "outputs": [],
   "source": []
  },
  {
   "cell_type": "markdown",
   "metadata": {},
   "source": [
    "### Problem 1.2\n",
    "Write a function filter_long_words() that takes a list of words and an integer n and returns\n",
    "the list of words that are longer than n.\n"
   ]
  },
  {
   "cell_type": "code",
   "execution_count": 12,
   "metadata": {},
   "outputs": [
    {
     "name": "stdout",
     "output_type": "stream",
     "text": [
      "Enter list of words seperated by space: ahmad taquee ats four seven\n",
      "Enter length of the word: 4\n"
     ]
    }
   ],
   "source": [
    "filter_list = []   # empty list to store the words which will be greater than a certain length\n",
    "\n",
    "\n",
    "# takes the input of the words from the users and stored in a list\n",
    "mylist = input('Enter list of words seperated by space: ').split() \n",
    "\n",
    "# min. length of the words we don't want to store\n",
    "word_length = int(input('Enter length of the word: ')) \n",
    "\n",
    "\n",
    "def filter_long_words(input_list, input_number):\n",
    "    \n",
    "    '''\n",
    "    filter_long_words function takes two arguments: first as a list and second as a integer, length of a word\n",
    "    and returns the list of words which are longer then integer\n",
    "    \n",
    "    '''\n",
    "    \n",
    "    # iterating over the input_list\n",
    "    for i in range(len(input_list)):\n",
    "        \n",
    "        # comparing the length of words from the input_list to the input_number\n",
    "        if (len(input_list[i]) > input_number):\n",
    "            \n",
    "            # appending those words in filter_list which are longer than input_number\n",
    "            filter_list.append(input_list[i])\n",
    "    \n",
    "    # returning the final filter_list after appending all the words\n",
    "    return filter_list\n"
   ]
  },
  {
   "cell_type": "code",
   "execution_count": 13,
   "metadata": {},
   "outputs": [
    {
     "data": {
      "text/plain": [
       "['ahmad', 'taquee', 'seven']"
      ]
     },
     "execution_count": 13,
     "metadata": {},
     "output_type": "execute_result"
    }
   ],
   "source": [
    "# calling the filter_long_words funtion\n",
    "\n",
    "filter_long_words(mylist, word_length)\n"
   ]
  },
  {
   "cell_type": "code",
   "execution_count": null,
   "metadata": {},
   "outputs": [],
   "source": [
    "## 2nd method - not working properly\n",
    "\n",
    "# m = []\n",
    "# k = []\n",
    "\n",
    "\n",
    "# def filter_long_words():\n",
    "    \n",
    "#     n = int(input('enter length: '))\n",
    "    \n",
    "#     input_string = input(\"Enter words:  \")\n",
    "\n",
    "#     my_list = input_string.split(\" \")\n",
    "\n",
    "#     for i in range(len(my_list)):\n",
    "#         if len(my_list[i]) > n:\n",
    "#             k.append(my_list)\n",
    "#             break\n",
    "            \n",
    "            \n",
    "# filter_long_words()"
   ]
  },
  {
   "cell_type": "code",
   "execution_count": null,
   "metadata": {},
   "outputs": [],
   "source": []
  },
  {
   "cell_type": "markdown",
   "metadata": {},
   "source": [
    "### Problem 2.1 \n",
    "Write a Python program using function concept that maps list of words into a list of integers\n",
    "representing the lengths of the corresponding words.\n",
    "\n",
    "Hint: If a list [ ab, cde, erty ] is passed on to the python function output should come as [2,3,4]\n",
    "\n",
    "Here 2,3 and 4 are the lengths of the words in the list."
   ]
  },
  {
   "cell_type": "code",
   "execution_count": 10,
   "metadata": {},
   "outputs": [
    {
     "name": "stdout",
     "output_type": "stream",
     "text": [
      "Enter list of words seperated by space: ahmad taquee new ats three\n"
     ]
    }
   ],
   "source": [
    "# First Method -\n",
    "\n",
    "# takes the input of the words from the users and stored in a list\n",
    "input_words = input('Enter list of words seperated by space: ').split()\n",
    "\n",
    "# to store the length of the input_words\n",
    "length_input_words = []\n",
    "\n",
    "\n",
    "def calculate_length_words(input_list):\n",
    "    \n",
    "    '''\n",
    "    calculate_length_words function takes one argument as a list \n",
    "    and returns the length of the words which are in input_list.\n",
    "    \n",
    "    '''\n",
    "        \n",
    "    # iterate over the input_list \n",
    "    for i in range(len(input_list)):\n",
    "        \n",
    "        # appending the length of the words in the length_input_words list\n",
    "        length_input_words.append(len(input_list[i]))\n",
    "        \n",
    "    # returning the final list with length of each word\n",
    "    return length_input_words"
   ]
  },
  {
   "cell_type": "code",
   "execution_count": 11,
   "metadata": {},
   "outputs": [
    {
     "data": {
      "text/plain": [
       "[5, 6, 3, 3, 5]"
      ]
     },
     "execution_count": 11,
     "metadata": {},
     "output_type": "execute_result"
    }
   ],
   "source": [
    "# calling the calculate_length_words\n",
    "\n",
    "calculate_length_words(input_words)\n"
   ]
  },
  {
   "cell_type": "code",
   "execution_count": null,
   "metadata": {},
   "outputs": [],
   "source": []
  },
  {
   "cell_type": "code",
   "execution_count": 6,
   "metadata": {},
   "outputs": [
    {
     "name": "stdout",
     "output_type": "stream",
     "text": [
      "Enter list of words seperated by space: ahmad taquee ats john one four\n"
     ]
    }
   ],
   "source": [
    "## 2nd Method - \n",
    "\n",
    "# takes the input of the words from the users and stored in a list\n",
    "input_words = input('Enter list of words seperated by space: ').split()\n",
    "\n",
    "\n",
    "def calculate_length_words(input_list):\n",
    "    \n",
    "    '''\n",
    "    calculate_length_words function takes one argument as a list \n",
    "    and returns the length of the words which are in input_list.\n",
    "    \n",
    "    '''\n",
    "    \n",
    "    # lambda function calculate the length of each word from the input_list\n",
    "    # and returning it in a list\n",
    "    \n",
    "    return list(map(lambda x: len(x), input_list))\n"
   ]
  },
  {
   "cell_type": "code",
   "execution_count": 7,
   "metadata": {},
   "outputs": [
    {
     "data": {
      "text/plain": [
       "[5, 6, 3, 4, 3, 4]"
      ]
     },
     "execution_count": 7,
     "metadata": {},
     "output_type": "execute_result"
    }
   ],
   "source": [
    "calculate_length_words(input_words)"
   ]
  },
  {
   "cell_type": "code",
   "execution_count": null,
   "metadata": {},
   "outputs": [],
   "source": []
  },
  {
   "cell_type": "markdown",
   "metadata": {},
   "source": [
    "### Problem 2.2 \n",
    "Write a Python function which takes a character (i.e. a string of length 1) and returns True if\n",
    "it is a vowel, False otherwise."
   ]
  },
  {
   "cell_type": "code",
   "execution_count": 3,
   "metadata": {},
   "outputs": [],
   "source": [
    "def check_vowel(char):\n",
    "    \n",
    "    '''\n",
    "    check_vowel function will take only one argument as a character \n",
    "    and returns True if it is a vowel, or else False\n",
    "    \n",
    "    '''\n",
    "    \n",
    "    vowels = 'aeiou'  # storing the vowels in a 'vowels' variable\n",
    "    \n",
    "    # iterating over the 'vowels'\n",
    "    for i in vowels:\n",
    "        \n",
    "        \n",
    "        # comparing the small character to the 'vowels'\n",
    "        if (char.lower()) == i:\n",
    "            \n",
    "            return True  # returinng True if 'char' is vowel and coming out from the loop using break\n",
    "            break\n",
    "        \n",
    "    else:\n",
    "        \n",
    "        # returining False if 'char' is not a vowel\n",
    "        return False\n",
    "    "
   ]
  },
  {
   "cell_type": "code",
   "execution_count": 5,
   "metadata": {},
   "outputs": [
    {
     "data": {
      "text/plain": [
       "True"
      ]
     },
     "execution_count": 5,
     "metadata": {},
     "output_type": "execute_result"
    }
   ],
   "source": [
    "# calling the check_vowel function\n",
    "\n",
    "check_vowel('u')"
   ]
  },
  {
   "cell_type": "code",
   "execution_count": null,
   "metadata": {},
   "outputs": [],
   "source": []
  },
  {
   "cell_type": "code",
   "execution_count": null,
   "metadata": {},
   "outputs": [],
   "source": [
    "      "
   ]
  },
  {
   "cell_type": "markdown",
   "metadata": {},
   "source": [
    "### Assignment 4 - END"
   ]
  },
  {
   "cell_type": "markdown",
   "metadata": {},
   "source": [
    "### Write your feedback please."
   ]
  },
  {
   "cell_type": "code",
   "execution_count": null,
   "metadata": {},
   "outputs": [],
   "source": []
  }
 ],
 "metadata": {
  "kernelspec": {
   "display_name": "Python 3",
   "language": "python",
   "name": "python3"
  },
  "language_info": {
   "codemirror_mode": {
    "name": "ipython",
    "version": 3
   },
   "file_extension": ".py",
   "mimetype": "text/x-python",
   "name": "python",
   "nbconvert_exporter": "python",
   "pygments_lexer": "ipython3",
   "version": "3.8.5"
  }
 },
 "nbformat": 4,
 "nbformat_minor": 4
}
