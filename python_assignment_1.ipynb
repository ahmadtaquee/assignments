{
 "cells": [
  {
   "cell_type": "markdown",
   "metadata": {},
   "source": [
    "### Problem 1: Write a program which will find all such numbers which are divisible by 7 but are not a multiple of 5, between 2000 and 3200 (both included). The numbers obtained should be printed in a comma-separated sequence on a single line."
   ]
  },
  {
   "cell_type": "code",
   "execution_count": 1,
   "metadata": {},
   "outputs": [],
   "source": [
    "m = []                             ## empty list\n",
    "for i in range(2000,3201):         ## 3201 exclusive\n",
    "    if (i%7 == 0 and i%5 != 0):    ## no. is divisble by 7 and not divisible by 5\n",
    "        m.append(i)                ## appending the no. in the list 'm'\n",
    "# m"
   ]
  },
  {
   "cell_type": "code",
   "execution_count": null,
   "metadata": {},
   "outputs": [],
   "source": []
  },
  {
   "cell_type": "markdown",
   "metadata": {},
   "source": [
    "### Problem 2: Write a Python program to accept the user's first and last name and then getting them printed in the the reverse order with a space between first name and last name."
   ]
  },
  {
   "cell_type": "code",
   "execution_count": 48,
   "metadata": {},
   "outputs": [
    {
     "name": "stdout",
     "output_type": "stream",
     "text": [
      "Enter your first name: ahmad\n",
      "Enter your last name: taquee\n"
     ]
    }
   ],
   "source": [
    "f_name = input('Enter your first name: ')    ## first name from user\n",
    "l_name = input('Enter your last name: ')     ## last name from user"
   ]
  },
  {
   "cell_type": "code",
   "execution_count": null,
   "metadata": {},
   "outputs": [],
   "source": [
    "rev_firstname = f_name[::-1]    ## rev. first name\n",
    "print(rev_firstname)\n",
    "\n",
    "rev_lastname = l_name[::-1]    ## rev. last name\n",
    "print(rev_lastname)\n",
    "\n",
    "print(\"Reversed name alphabet wise: \" + rev_firstname +\" \"+rev_lastname)   ## printing first & last name reverse\n",
    "\n",
    "\n",
    "full_name = list()                  ## empty list\n",
    "full_name.append(rev_firstname)     ## appening reversed first name in the list \n",
    "full_name.append(rev_lastname)      ## appening reversed last name in the list\n",
    "\n",
    "print(\"Reversed Fullname: \" + \" \".join(full_name[::-1]))    ## printing rev. full name (letter)\n",
    "\n",
    "lst = []                ## empty list\n",
    "lst.append(f_name)      ## appending first name\n",
    "lst.append(l_name)      ## appending last name\n",
    "\n",
    "print(\"Reverse name: \" + \" \".join(lst[::-1]))         ## printing rev. full name"
   ]
  },
  {
   "cell_type": "code",
   "execution_count": null,
   "metadata": {},
   "outputs": [],
   "source": []
  },
  {
   "cell_type": "markdown",
   "metadata": {},
   "source": [
    "### Problem 3: Write a Python program to find the volume of a sphere with diameter 12 cm \n",
    "### Formula: V = 4/3 * π * r^3"
   ]
  },
  {
   "cell_type": "code",
   "execution_count": 62,
   "metadata": {},
   "outputs": [
    {
     "name": "stdout",
     "output_type": "stream",
     "text": [
      "Enter the radius: 12\n",
      "Volume of the sphere is:  7238.229473870882\n",
      "Volume of the sphere is:  7238.23\n"
     ]
    }
   ],
   "source": [
    "## 1st method\n",
    "\n",
    "import math    ## math module imported\n",
    "\n",
    "def vol_sphere(r):                  ## r - radius of sphere as an argument\n",
    "    return (4/3)*(math.pi)*(r**3)   ## formula - volume of sphere\n",
    "\n",
    "rad = int(input('Enter the radius: '))                            ## taking radius as an input from user (in cm)\n",
    "print('Volume of the sphere is: ',vol_sphere(rad))                ## printing vol. of sphere\n",
    "print('Volume of the sphere is: ',round(vol_sphere(rad),2))       ## printing vol. of sphere till 2 dec. point"
   ]
  },
  {
   "cell_type": "code",
   "execution_count": 1,
   "metadata": {},
   "outputs": [],
   "source": []
  },
  {
   "cell_type": "code",
   "execution_count": 63,
   "metadata": {},
   "outputs": [],
   "source": [
    "## 2nd method\n",
    "\n",
    "import math\n",
    "\n",
    "class sphere:\n",
    "    def __init__(self,r):\n",
    "        print((4/3)*(math.pi)*(r**3))"
   ]
  },
  {
   "cell_type": "code",
   "execution_count": 76,
   "metadata": {},
   "outputs": [
    {
     "name": "stdout",
     "output_type": "stream",
     "text": [
      "7238.229473870882\n"
     ]
    }
   ],
   "source": [
    "s = sphere(12)"
   ]
  },
  {
   "cell_type": "code",
   "execution_count": null,
   "metadata": {},
   "outputs": [],
   "source": []
  },
  {
   "cell_type": "markdown",
   "metadata": {},
   "source": [
    "## Assignment 1 - END"
   ]
  },
  {
   "cell_type": "markdown",
   "metadata": {},
   "source": [
    "### Write your feedback please."
   ]
  },
  {
   "cell_type": "code",
   "execution_count": null,
   "metadata": {},
   "outputs": [],
   "source": []
  },
  {
   "cell_type": "code",
   "execution_count": null,
   "metadata": {},
   "outputs": [],
   "source": []
  },
  {
   "cell_type": "code",
   "execution_count": null,
   "metadata": {},
   "outputs": [],
   "source": []
  }
 ],
 "metadata": {
  "kernelspec": {
   "display_name": "Python 3",
   "language": "python",
   "name": "python3"
  },
  "language_info": {
   "codemirror_mode": {
    "name": "ipython",
    "version": 3
   },
   "file_extension": ".py",
   "mimetype": "text/x-python",
   "name": "python",
   "nbconvert_exporter": "python",
   "pygments_lexer": "ipython3",
   "version": "3.8.5"
  }
 },
 "nbformat": 4,
 "nbformat_minor": 4
}
