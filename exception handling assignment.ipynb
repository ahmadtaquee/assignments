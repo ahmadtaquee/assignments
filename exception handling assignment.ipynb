{
 "cells": [
  {
   "cell_type": "markdown",
   "metadata": {},
   "source": [
    "### Problem 1.1\n",
    "Write a function to compute 5/0 and use try/except to catch the exceptions."
   ]
  },
  {
   "cell_type": "code",
   "execution_count": 1,
   "metadata": {},
   "outputs": [],
   "source": [
    "def compute(numerator, denominator):\n",
    "    \n",
    "    '''compute function take 2 arguments as 'numerator' & 'denominator' and returns a division value'''\n",
    "    \n",
    "    # try block to calculte a divison operation and returns it\n",
    "    \n",
    "    try:\n",
    "        \n",
    "        division = numerator / denominator\n",
    "        \n",
    "        return division\n",
    "    \n",
    "    # except block to handle the pre-defined exceptions\n",
    "    \n",
    "    except Exception as e:\n",
    "        \n",
    "        print('Division by Zero error')"
   ]
  },
  {
   "cell_type": "code",
   "execution_count": 2,
   "metadata": {},
   "outputs": [
    {
     "name": "stdout",
     "output_type": "stream",
     "text": [
      "Division by Zero error\n"
     ]
    }
   ],
   "source": [
    "# callng compute function\n",
    "\n",
    "compute(4, 0)  # numerator, denominator = 4, 0"
   ]
  },
  {
   "cell_type": "code",
   "execution_count": null,
   "metadata": {},
   "outputs": [],
   "source": []
  },
  {
   "cell_type": "code",
   "execution_count": null,
   "metadata": {},
   "outputs": [],
   "source": []
  },
  {
   "cell_type": "markdown",
   "metadata": {},
   "source": [
    "### Problem 1.2\n",
    "Implement a Python program to generate all sentences where\n",
    "\n",
    "subject is in [\"Americans\", \"Indians\"] and \n",
    "\n",
    "verb is in [\"Play\", \"watch\"] and \n",
    "\n",
    "the object is in [\"Baseball\",\"cricket\"]\n",
    "\n",
    "Hint: Subject,Verb and Object should be declared in the program as shown below:\n",
    "\n",
    "subjects=[\"Americans \",\"Indians\"]\n",
    "\n",
    "verbs=[\"play\",\"watch\"]\n",
    "\n",
    "objects=[\"Baseball\",\"Cricket\"]\n",
    "\n",
    "##### Output should come as below:\n",
    "\n",
    "Americans play Baseball.\n",
    "\n",
    "Americans play Cricket.\n",
    "\n",
    "Americans watch Baseball.\n",
    "\n",
    "Americans watch Cricket.\n",
    "\n",
    "Indians play Baseball.\n",
    "\n",
    "Indians play Cricket.\n",
    "\n",
    "Indians watch Baseball.\n",
    "\n",
    "Indians watch Cricket"
   ]
  },
  {
   "cell_type": "code",
   "execution_count": 6,
   "metadata": {},
   "outputs": [],
   "source": [
    "# stored items in lists and assigned it\n",
    "\n",
    "subjects = ['Americans', 'Indians']\n",
    "verbs = ['play', 'watch']\n",
    "objects = ['Baseball', 'Cricket']"
   ]
  },
  {
   "cell_type": "code",
   "execution_count": 27,
   "metadata": {},
   "outputs": [],
   "source": [
    "def get_words_lists(subjects,verbs,objects):\n",
    "    \n",
    "    '''\n",
    "    get_words_lists function takes 3 arguments as an iterables and \n",
    "    prints total no. of combinations using those iterables\n",
    "    \n",
    "    '''\n",
    "    \n",
    "    # empty list to store the final data (words)\n",
    "    \n",
    "    mylist = []\n",
    "\n",
    "    # iterating over the list one by one\n",
    "\n",
    "    for i in subjects:\n",
    "\n",
    "        for j in verbs:\n",
    "\n",
    "            for k in objects:\n",
    "\n",
    "                # extracting the list elements and appending the list elements into 'mylist'\n",
    "\n",
    "                mylist.append(i +' '+ j +' '+ k) \n",
    "\n",
    "\n",
    "    # removing the list brackets and commas from the final 'mylist'\n",
    "\n",
    "    for i in mylist:\n",
    "\n",
    "        print(''.join(i))\n",
    "    "
   ]
  },
  {
   "cell_type": "code",
   "execution_count": 28,
   "metadata": {},
   "outputs": [
    {
     "name": "stdout",
     "output_type": "stream",
     "text": [
      "Americans play Baseball\n",
      "Americans play Cricket\n",
      "Americans watch Baseball\n",
      "Americans watch Cricket\n",
      "Indians play Baseball\n",
      "Indians play Cricket\n",
      "Indians watch Baseball\n",
      "Indians watch Cricket\n"
     ]
    }
   ],
   "source": [
    "get_words_lists(subjects,verbs,objects)"
   ]
  },
  {
   "cell_type": "code",
   "execution_count": 35,
   "metadata": {
    "scrolled": true
   },
   "outputs": [
    {
     "name": "stdout",
     "output_type": "stream",
     "text": [
      "Americans play Baseball\n",
      "Americans play Cricket\n",
      "Americans watch Baseball\n",
      "Americans watch Cricket\n",
      "Indians play Baseball\n",
      "Indians play Cricket\n",
      "Indians watch Baseball\n",
      "Indians watch Cricket\n"
     ]
    }
   ],
   "source": [
    "# 2nd - method: using list comprehension\n",
    "\n",
    "\n",
    "my_list = [ (i +' '+ j +' '+ k) for i in subjects for j in verbs for k in objects]\n",
    "\n",
    "# iterating over 'my_list' and printing the items\n",
    "\n",
    "for item in my_list:\n",
    "    \n",
    "    print(item)"
   ]
  },
  {
   "cell_type": "code",
   "execution_count": null,
   "metadata": {},
   "outputs": [],
   "source": []
  },
  {
   "cell_type": "code",
   "execution_count": null,
   "metadata": {},
   "outputs": [],
   "source": [
    "      "
   ]
  },
  {
   "cell_type": "markdown",
   "metadata": {},
   "source": [
    "### exception handling assignment - END"
   ]
  },
  {
   "cell_type": "markdown",
   "metadata": {},
   "source": [
    "### Feedback please!"
   ]
  },
  {
   "cell_type": "code",
   "execution_count": null,
   "metadata": {},
   "outputs": [],
   "source": []
  }
 ],
 "metadata": {
  "kernelspec": {
   "display_name": "Python 3",
   "language": "python",
   "name": "python3"
  },
  "language_info": {
   "codemirror_mode": {
    "name": "ipython",
    "version": 3
   },
   "file_extension": ".py",
   "mimetype": "text/x-python",
   "name": "python",
   "nbconvert_exporter": "python",
   "pygments_lexer": "ipython3",
   "version": "3.8.5"
  }
 },
 "nbformat": 4,
 "nbformat_minor": 4
}
